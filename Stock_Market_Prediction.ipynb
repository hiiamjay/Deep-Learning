{
  "nbformat": 4,
  "nbformat_minor": 0,
  "metadata": {
    "colab": {
      "name": "Stock Market Prediction.ipynb",
      "provenance": [],
      "authorship_tag": "ABX9TyN2wBkAKuAmCrLB/u2MBUkG",
      "include_colab_link": true
    },
    "kernelspec": {
      "name": "python3",
      "display_name": "Python 3"
    }
  },
  "cells": [
    {
      "cell_type": "markdown",
      "metadata": {
        "id": "view-in-github",
        "colab_type": "text"
      },
      "source": [
        "<a href=\"https://colab.research.google.com/github/hiiamjay/Deep-Learning/blob/main/Stock_Market_Prediction.ipynb\" target=\"_parent\"><img src=\"https://colab.research.google.com/assets/colab-badge.svg\" alt=\"Open In Colab\"/></a>"
      ]
    },
    {
      "cell_type": "code",
      "metadata": {
        "id": "qLFuPppHvH7y"
      },
      "source": [
        "import math \n",
        "import pandas_datareader as web\n",
        "import numpy as np\n",
        "import pandas as pd\n",
        "from sklearn.preprocessing import MinMaxScaler\n",
        "from keras.models import Sequential\n",
        "from keras.layers import Dense, LSTM\n",
        "import matplotlib.pyplot as plt\n",
        "plt.style.use('fivethirtyeight')"
      ],
      "execution_count": 68,
      "outputs": []
    },
    {
      "cell_type": "code",
      "metadata": {
        "id": "r668HVXvvbMA"
      },
      "source": [
        "df = web.DataReader('LAURUSLABS.NS', data_source='yahoo', start='2012-01-01', end='2021-2-25')"
      ],
      "execution_count": 128,
      "outputs": []
    },
    {
      "cell_type": "code",
      "metadata": {
        "id": "JD2abkLCwFhx",
        "colab": {
          "base_uri": "https://localhost:8080/",
          "height": 450
        },
        "outputId": "7db8d709-d027-4918-fc39-01ae8886e29e"
      },
      "source": [
        "df"
      ],
      "execution_count": 129,
      "outputs": [
        {
          "output_type": "execute_result",
          "data": {
            "text/html": [
              "<div>\n",
              "<style scoped>\n",
              "    .dataframe tbody tr th:only-of-type {\n",
              "        vertical-align: middle;\n",
              "    }\n",
              "\n",
              "    .dataframe tbody tr th {\n",
              "        vertical-align: top;\n",
              "    }\n",
              "\n",
              "    .dataframe thead th {\n",
              "        text-align: right;\n",
              "    }\n",
              "</style>\n",
              "<table border=\"1\" class=\"dataframe\">\n",
              "  <thead>\n",
              "    <tr style=\"text-align: right;\">\n",
              "      <th></th>\n",
              "      <th>High</th>\n",
              "      <th>Low</th>\n",
              "      <th>Open</th>\n",
              "      <th>Close</th>\n",
              "      <th>Volume</th>\n",
              "      <th>Adj Close</th>\n",
              "    </tr>\n",
              "    <tr>\n",
              "      <th>Date</th>\n",
              "      <th></th>\n",
              "      <th></th>\n",
              "      <th></th>\n",
              "      <th></th>\n",
              "      <th></th>\n",
              "      <th></th>\n",
              "    </tr>\n",
              "  </thead>\n",
              "  <tbody>\n",
              "    <tr>\n",
              "      <th>2016-12-19</th>\n",
              "      <td>99.599998</td>\n",
              "      <td>95.000000</td>\n",
              "      <td>97.980003</td>\n",
              "      <td>96.080002</td>\n",
              "      <td>87741675.0</td>\n",
              "      <td>91.272980</td>\n",
              "    </tr>\n",
              "    <tr>\n",
              "      <th>2016-12-20</th>\n",
              "      <td>97.889999</td>\n",
              "      <td>93.139999</td>\n",
              "      <td>96.559998</td>\n",
              "      <td>94.739998</td>\n",
              "      <td>12775220.0</td>\n",
              "      <td>90.000008</td>\n",
              "    </tr>\n",
              "    <tr>\n",
              "      <th>2016-12-21</th>\n",
              "      <td>96.000000</td>\n",
              "      <td>94.000000</td>\n",
              "      <td>94.800003</td>\n",
              "      <td>94.680000</td>\n",
              "      <td>4620385.0</td>\n",
              "      <td>89.943024</td>\n",
              "    </tr>\n",
              "    <tr>\n",
              "      <th>2016-12-22</th>\n",
              "      <td>95.580002</td>\n",
              "      <td>94.000000</td>\n",
              "      <td>94.400002</td>\n",
              "      <td>94.910004</td>\n",
              "      <td>5630110.0</td>\n",
              "      <td>90.161514</td>\n",
              "    </tr>\n",
              "    <tr>\n",
              "      <th>2016-12-23</th>\n",
              "      <td>95.599998</td>\n",
              "      <td>94.220001</td>\n",
              "      <td>94.989998</td>\n",
              "      <td>95.129997</td>\n",
              "      <td>2094665.0</td>\n",
              "      <td>90.370506</td>\n",
              "    </tr>\n",
              "    <tr>\n",
              "      <th>...</th>\n",
              "      <td>...</td>\n",
              "      <td>...</td>\n",
              "      <td>...</td>\n",
              "      <td>...</td>\n",
              "      <td>...</td>\n",
              "      <td>...</td>\n",
              "    </tr>\n",
              "    <tr>\n",
              "      <th>2021-02-19</th>\n",
              "      <td>373.549988</td>\n",
              "      <td>362.600006</td>\n",
              "      <td>369.000000</td>\n",
              "      <td>365.350006</td>\n",
              "      <td>1982699.0</td>\n",
              "      <td>365.350006</td>\n",
              "    </tr>\n",
              "    <tr>\n",
              "      <th>2021-02-22</th>\n",
              "      <td>369.000000</td>\n",
              "      <td>355.000000</td>\n",
              "      <td>367.000000</td>\n",
              "      <td>358.100006</td>\n",
              "      <td>1739504.0</td>\n",
              "      <td>358.100006</td>\n",
              "    </tr>\n",
              "    <tr>\n",
              "      <th>2021-02-23</th>\n",
              "      <td>364.549988</td>\n",
              "      <td>358.149994</td>\n",
              "      <td>358.500000</td>\n",
              "      <td>361.750000</td>\n",
              "      <td>1665753.0</td>\n",
              "      <td>361.750000</td>\n",
              "    </tr>\n",
              "    <tr>\n",
              "      <th>2021-02-24</th>\n",
              "      <td>364.899994</td>\n",
              "      <td>358.100006</td>\n",
              "      <td>364.000000</td>\n",
              "      <td>360.250000</td>\n",
              "      <td>833758.0</td>\n",
              "      <td>360.250000</td>\n",
              "    </tr>\n",
              "    <tr>\n",
              "      <th>2021-02-26</th>\n",
              "      <td>356.600006</td>\n",
              "      <td>347.049988</td>\n",
              "      <td>354.000000</td>\n",
              "      <td>347.799988</td>\n",
              "      <td>1519752.0</td>\n",
              "      <td>347.799988</td>\n",
              "    </tr>\n",
              "  </tbody>\n",
              "</table>\n",
              "<p>1035 rows × 6 columns</p>\n",
              "</div>"
            ],
            "text/plain": [
              "                  High         Low  ...      Volume   Adj Close\n",
              "Date                                ...                        \n",
              "2016-12-19   99.599998   95.000000  ...  87741675.0   91.272980\n",
              "2016-12-20   97.889999   93.139999  ...  12775220.0   90.000008\n",
              "2016-12-21   96.000000   94.000000  ...   4620385.0   89.943024\n",
              "2016-12-22   95.580002   94.000000  ...   5630110.0   90.161514\n",
              "2016-12-23   95.599998   94.220001  ...   2094665.0   90.370506\n",
              "...                ...         ...  ...         ...         ...\n",
              "2021-02-19  373.549988  362.600006  ...   1982699.0  365.350006\n",
              "2021-02-22  369.000000  355.000000  ...   1739504.0  358.100006\n",
              "2021-02-23  364.549988  358.149994  ...   1665753.0  361.750000\n",
              "2021-02-24  364.899994  358.100006  ...    833758.0  360.250000\n",
              "2021-02-26  356.600006  347.049988  ...   1519752.0  347.799988\n",
              "\n",
              "[1035 rows x 6 columns]"
            ]
          },
          "metadata": {
            "tags": []
          },
          "execution_count": 129
        }
      ]
    },
    {
      "cell_type": "code",
      "metadata": {
        "colab": {
          "base_uri": "https://localhost:8080/"
        },
        "id": "nyREJ_JxHRGm",
        "outputId": "783da835-5add-49e9-cea0-a6143e0f91d6"
      },
      "source": [
        "df.iloc[df.shape[0]-39:,3]"
      ],
      "execution_count": 130,
      "outputs": [
        {
          "output_type": "execute_result",
          "data": {
            "text/plain": [
              "Date\n",
              "2021-01-01    353.399994\n",
              "2021-01-04    359.299988\n",
              "2021-01-05    359.549988\n",
              "2021-01-06    355.700012\n",
              "2021-01-07    353.200012\n",
              "2021-01-08    353.600006\n",
              "2021-01-11    350.100006\n",
              "2021-01-12    352.750000\n",
              "2021-01-13    348.100006\n",
              "2021-01-14    366.799988\n",
              "2021-01-15    370.049988\n",
              "2021-01-18    355.799988\n",
              "2021-01-19    363.200012\n",
              "2021-01-20    371.899994\n",
              "2021-01-21    370.149994\n",
              "2021-01-22    370.549988\n",
              "2021-01-25    379.549988\n",
              "2021-01-27    366.299988\n",
              "2021-01-28    358.299988\n",
              "2021-01-29    345.350006\n",
              "2021-02-01    350.100006\n",
              "2021-02-02    346.549988\n",
              "2021-02-03    341.700012\n",
              "2021-02-04    346.600006\n",
              "2021-02-05    341.750000\n",
              "2021-02-08    357.250000\n",
              "2021-02-09    360.700012\n",
              "2021-02-10    359.299988\n",
              "2021-02-11    367.350006\n",
              "2021-02-12    375.649994\n",
              "2021-02-15    368.700012\n",
              "2021-02-16    372.700012\n",
              "2021-02-17    366.799988\n",
              "2021-02-18    369.250000\n",
              "2021-02-19    365.350006\n",
              "2021-02-22    358.100006\n",
              "2021-02-23    361.750000\n",
              "2021-02-24    360.250000\n",
              "2021-02-26    347.799988\n",
              "Name: Close, dtype: float64"
            ]
          },
          "metadata": {
            "tags": []
          },
          "execution_count": 130
        }
      ]
    },
    {
      "cell_type": "code",
      "metadata": {
        "id": "29MxmWyZwHMZ",
        "colab": {
          "base_uri": "https://localhost:8080/"
        },
        "outputId": "3a6ab846-27d3-4cc5-e086-5ea76afe5256"
      },
      "source": [
        "df.shape"
      ],
      "execution_count": 131,
      "outputs": [
        {
          "output_type": "execute_result",
          "data": {
            "text/plain": [
              "(1035, 6)"
            ]
          },
          "metadata": {
            "tags": []
          },
          "execution_count": 131
        }
      ]
    },
    {
      "cell_type": "code",
      "metadata": {
        "id": "gJICtOpiwVvA",
        "colab": {
          "base_uri": "https://localhost:8080/",
          "height": 558
        },
        "outputId": "efde33e1-3be0-4f7d-c149-ec7f595417d1"
      },
      "source": [
        "plt.figure(figsize=(16,8))\n",
        "plt.title(\"Close Price History\")\n",
        "plt.plot(df['Close'])\n",
        "plt.xlabel('Date', fontsize=18)\n",
        "plt.ylabel('Close Price', fontsize=18)\n",
        "plt.show()"
      ],
      "execution_count": 132,
      "outputs": [
        {
          "output_type": "display_data",
          "data": {
            "image/png": "[encoded data removed]",
            "text/plain": [
              "<Figure size 1152x576 with 1 Axes>"
            ]
          },
          "metadata": {
            "tags": []
          }
        }
      ]
    },
    {
      "cell_type": "code",
      "metadata": {
        "id": "GptgkSZ7w_F3",
        "colab": {
          "base_uri": "https://localhost:8080/"
        },
        "outputId": "92bfd665-1dca-4569-adfe-0cfe719d1fcb"
      },
      "source": [
        "data = df.filter(['Close'])\n",
        "dataset = data.values\n",
        "training_data_len = df.shape[0]-39\n",
        "\n",
        "training_data_len"
      ],
      "execution_count": 133,
      "outputs": [
        {
          "output_type": "execute_result",
          "data": {
            "text/plain": [
              "996"
            ]
          },
          "metadata": {
            "tags": []
          },
          "execution_count": 133
        }
      ]
    },
    {
      "cell_type": "code",
      "metadata": {
        "id": "8yEFHeW5yUeW"
      },
      "source": [
        "scaler = MinMaxScaler(feature_range=(0,1))\n",
        "scaled_data = scaler.fit_transform(dataset)"
      ],
      "execution_count": 134,
      "outputs": []
    },
    {
      "cell_type": "code",
      "metadata": {
        "id": "QVc7qkAUyjDk",
        "colab": {
          "base_uri": "https://localhost:8080/"
        },
        "outputId": "d6836797-2627-4ddd-ad8e-a33b5b9df791"
      },
      "source": [
        "scaled_data"
      ],
      "execution_count": 135,
      "outputs": [
        {
          "output_type": "execute_result",
          "data": {
            "text/plain": [
              "array([[0.10718111],\n",
              "       [0.10296063],\n",
              "       [0.10277166],\n",
              "       ...,\n",
              "       [0.94393704],\n",
              "       [0.93921263],\n",
              "       [0.9       ]])"
            ]
          },
          "metadata": {
            "tags": []
          },
          "execution_count": 135
        }
      ]
    },
    {
      "cell_type": "code",
      "metadata": {
        "id": "1n3QR5UpysGh",
        "colab": {
          "base_uri": "https://localhost:8080/"
        },
        "outputId": "63177b44-e665-475a-b231-0e7cce96fa74"
      },
      "source": [
        "train_data = scaled_data[0:training_data_len, :]\n",
        "x_train, y_train = [], []\n",
        "\n",
        "for i in range(60, len(train_data)):\n",
        "  x_train.append(train_data[i-60:i,0])\n",
        "  y_train.append(train_data[i,0])\n",
        "  if i<=61:\n",
        "    print(x_train)\n",
        "    print(y_train)\n",
        "    print()"
      ],
      "execution_count": 136,
      "outputs": [
        {
          "output_type": "stream",
          "text": [
            "[array([0.10718111, 0.10296063, 0.10277166, 0.10349608, 0.10418897,\n",
            "       0.0913071 , 0.10771654, 0.11086615, 0.10708663, 0.10746457,\n",
            "       0.11096063, 0.10462992, 0.10409449, 0.10462992, 0.10236222,\n",
            "       0.1039685 , 0.10258269, 0.10381104, 0.10393702, 0.11612599,\n",
            "       0.11023624, 0.10500788, 0.1057323 , 0.10746457, 0.10617324,\n",
            "       0.10532283, 0.10535434, 0.10541732, 0.10286614, 0.10576378,\n",
            "       0.10362204, 0.1041575 , 0.10314962, 0.12129134, 0.15546459,\n",
            "       0.15722836, 0.15102363, 0.15713387, 0.14207876, 0.1311811 ,\n",
            "       0.12592126, 0.12491339, 0.12188977, 0.12003151, 0.12286614,\n",
            "       0.12979529, 0.13319685, 0.13288189, 0.12611023, 0.12579528,\n",
            "       0.12588976, 0.12462994, 0.12387401, 0.12699214, 0.13307088,\n",
            "       0.13080316, 0.12894488, 0.12648819, 0.12875591, 0.13672441])]\n",
            "[0.1388031656629847]\n",
            "\n",
            "[array([0.10718111, 0.10296063, 0.10277166, 0.10349608, 0.10418897,\n",
            "       0.0913071 , 0.10771654, 0.11086615, 0.10708663, 0.10746457,\n",
            "       0.11096063, 0.10462992, 0.10409449, 0.10462992, 0.10236222,\n",
            "       0.1039685 , 0.10258269, 0.10381104, 0.10393702, 0.11612599,\n",
            "       0.11023624, 0.10500788, 0.1057323 , 0.10746457, 0.10617324,\n",
            "       0.10532283, 0.10535434, 0.10541732, 0.10286614, 0.10576378,\n",
            "       0.10362204, 0.1041575 , 0.10314962, 0.12129134, 0.15546459,\n",
            "       0.15722836, 0.15102363, 0.15713387, 0.14207876, 0.1311811 ,\n",
            "       0.12592126, 0.12491339, 0.12188977, 0.12003151, 0.12286614,\n",
            "       0.12979529, 0.13319685, 0.13288189, 0.12611023, 0.12579528,\n",
            "       0.12588976, 0.12462994, 0.12387401, 0.12699214, 0.13307088,\n",
            "       0.13080316, 0.12894488, 0.12648819, 0.12875591, 0.13672441]), array([0.10296063, 0.10277166, 0.10349608, 0.10418897, 0.0913071 ,\n",
            "       0.10771654, 0.11086615, 0.10708663, 0.10746457, 0.11096063,\n",
            "       0.10462992, 0.10409449, 0.10462992, 0.10236222, 0.1039685 ,\n",
            "       0.10258269, 0.10381104, 0.10393702, 0.11612599, 0.11023624,\n",
            "       0.10500788, 0.1057323 , 0.10746457, 0.10617324, 0.10532283,\n",
            "       0.10535434, 0.10541732, 0.10286614, 0.10576378, 0.10362204,\n",
            "       0.1041575 , 0.10314962, 0.12129134, 0.15546459, 0.15722836,\n",
            "       0.15102363, 0.15713387, 0.14207876, 0.1311811 , 0.12592126,\n",
            "       0.12491339, 0.12188977, 0.12003151, 0.12286614, 0.12979529,\n",
            "       0.13319685, 0.13288189, 0.12611023, 0.12579528, 0.12588976,\n",
            "       0.12462994, 0.12387401, 0.12699214, 0.13307088, 0.13080316,\n",
            "       0.12894488, 0.12648819, 0.12875591, 0.13672441, 0.13880317])]\n",
            "[0.1388031656629847, 0.1388031656629847]\n",
            "\n"
          ],
          "name": "stdout"
        }
      ]
    },
    {
      "cell_type": "code",
      "metadata": {
        "id": "wRwk4QbVzqc5"
      },
      "source": [
        "x_train, y_train = np.array(x_train), np.array(y_train)"
      ],
      "execution_count": 137,
      "outputs": []
    },
    {
      "cell_type": "code",
      "metadata": {
        "id": "lSSvCy1X0ZuB",
        "colab": {
          "base_uri": "https://localhost:8080/"
        },
        "outputId": "5ad51c67-c47a-4664-cc7a-6d1c2001a136"
      },
      "source": [
        "x_train = np.reshape(x_train, (x_train.shape[0], x_train.shape[1], 1))\n",
        "x_train.shape"
      ],
      "execution_count": 138,
      "outputs": [
        {
          "output_type": "execute_result",
          "data": {
            "text/plain": [
              "(936, 60, 1)"
            ]
          },
          "metadata": {
            "tags": []
          },
          "execution_count": 138
        }
      ]
    },
    {
      "cell_type": "code",
      "metadata": {
        "id": "mC5TO4Bl0eQL"
      },
      "source": [
        "model = Sequential()\n",
        "\n",
        "model.add(LSTM(50, return_sequences=True, input_shape = (x_train.shape[1],1)))\n",
        "model.add(LSTM(50, return_sequences=False))\n",
        "model.add(Dense(25))\n",
        "model.add(Dense(1))"
      ],
      "execution_count": 139,
      "outputs": []
    },
    {
      "cell_type": "code",
      "metadata": {
        "id": "e8PtIUuS1aLR",
        "colab": {
          "base_uri": "https://localhost:8080/"
        },
        "outputId": "a6c819fb-0ed6-432e-901a-a9fb0a009599"
      },
      "source": [
        "model.summary()"
      ],
      "execution_count": 140,
      "outputs": [
        {
          "output_type": "stream",
          "text": [
            "Model: \"sequential_4\"\n",
            "_________________________________________________________________\n",
            "Layer (type)                 Output Shape              Param #   \n",
            "=================================================================\n",
            "lstm_8 (LSTM)                (None, 60, 50)            10400     \n",
            "_________________________________________________________________\n",
            "lstm_9 (LSTM)                (None, 50)                20200     \n",
            "_________________________________________________________________\n",
            "dense_8 (Dense)              (None, 25)                1275      \n",
            "_________________________________________________________________\n",
            "dense_9 (Dense)              (None, 1)                 26        \n",
            "=================================================================\n",
            "Total params: 31,901\n",
            "Trainable params: 31,901\n",
            "Non-trainable params: 0\n",
            "_________________________________________________________________\n"
          ],
          "name": "stdout"
        }
      ]
    },
    {
      "cell_type": "code",
      "metadata": {
        "id": "SToDxeUm1q_w"
      },
      "source": [
        "model.compile(optimizer='adam', loss='mean_squared_error')"
      ],
      "execution_count": 141,
      "outputs": []
    },
    {
      "cell_type": "code",
      "metadata": {
        "id": "VM7lklXB11M_",
        "colab": {
          "base_uri": "https://localhost:8080/"
        },
        "outputId": "557ec76b-11b9-41ed-f64e-2b5ac34d1b1a"
      },
      "source": [
        "model.fit(x_train, y_train, batch_size=1, epochs=1)"
      ],
      "execution_count": 142,
      "outputs": [
        {
          "output_type": "stream",
          "text": [
            "936/936 [==============================] - 25s 24ms/step - loss: 0.0059\n"
          ],
          "name": "stdout"
        },
        {
          "output_type": "execute_result",
          "data": {
            "text/plain": [
              "<tensorflow.python.keras.callbacks.History at 0x7f1ad88b32d0>"
            ]
          },
          "metadata": {
            "tags": []
          },
          "execution_count": 142
        }
      ]
    },
    {
      "cell_type": "code",
      "metadata": {
        "id": "PPdeliyz2Axg"
      },
      "source": [
        "test_data = scaled_data[training_data_len-60:,:]\n",
        "\n",
        "x_test, y_test = [], dataset[training_data_len:,:]\n",
        "\n",
        "for i in range(60, len(test_data)):\n",
        "  x_test.append(test_data[i-60:i,0]) "
      ],
      "execution_count": 143,
      "outputs": []
    },
    {
      "cell_type": "code",
      "metadata": {
        "id": "I9fuZ9nG24xS"
      },
      "source": [
        "x_test = np.array(x_test)"
      ],
      "execution_count": 144,
      "outputs": []
    },
    {
      "cell_type": "code",
      "metadata": {
        "id": "uLQ-Ne9O3C2Z"
      },
      "source": [
        "x_test = np.reshape(x_test, (x_test.shape[0], x_test.shape[1], 1))"
      ],
      "execution_count": 145,
      "outputs": []
    },
    {
      "cell_type": "code",
      "metadata": {
        "id": "j5xwf36R3Sv1",
        "colab": {
          "base_uri": "https://localhost:8080/"
        },
        "outputId": "cf8b7913-e3c4-4f68-964b-296a69440165"
      },
      "source": [
        "prediction = model.predict(x_test)\n",
        "prediction = scaler.inverse_transform(prediction)"
      ],
      "execution_count": 146,
      "outputs": [
        {
          "output_type": "stream",
          "text": [
            "WARNING:tensorflow:5 out of the last 9 calls to <function Model.make_predict_function.<locals>.predict_function at 0x7f1ad891cc20> triggered tf.function retracing. Tracing is expensive and the excessive number of tracings could be due to (1) creating @tf.function repeatedly in a loop, (2) passing tensors with different shapes, (3) passing Python objects instead of tensors. For (1), please define your @tf.function outside of the loop. For (2), @tf.function has experimental_relax_shapes=True option that relaxes argument shapes that can avoid unnecessary retracing. For (3), please refer to https://www.tensorflow.org/guide/function#controlling_retracing and https://www.tensorflow.org/api_docs/python/tf/function for  more details.\n"
          ],
          "name": "stdout"
        }
      ]
    },
    {
      "cell_type": "code",
      "metadata": {
        "id": "53zhB0wd3uap"
      },
      "source": [
        "rmse = np.sqrt(np.mean(prediction- y_test)**2)"
      ],
      "execution_count": 147,
      "outputs": []
    },
    {
      "cell_type": "code",
      "metadata": {
        "id": "UgP7Dico3zuN",
        "colab": {
          "base_uri": "https://localhost:8080/"
        },
        "outputId": "b7fdea8c-4541-4751-e6ce-b397f11ed6b2"
      },
      "source": [
        "rmse"
      ],
      "execution_count": 148,
      "outputs": [
        {
          "output_type": "execute_result",
          "data": {
            "text/plain": [
              "1.9474213428986378"
            ]
          },
          "metadata": {
            "tags": []
          },
          "execution_count": 148
        }
      ]
    },
    {
      "cell_type": "code",
      "metadata": {
        "id": "fF7WTlBB4LbV",
        "colab": {
          "base_uri": "https://localhost:8080/"
        },
        "outputId": "04463432-246d-4167-8e21-ff7ea4e09ef5"
      },
      "source": [
        "train = data[:training_data_len]\n",
        "valid = data[training_data_len:]\n",
        "valid['Prediction'] = prediction \n",
        "valid['Error Precentage'] = ((valid['Close'] - valid['Prediction'])/valid['Close'])*100"
      ],
      "execution_count": 149,
      "outputs": [
        {
          "output_type": "stream",
          "text": [
            "/usr/local/lib/python3.7/dist-packages/ipykernel_launcher.py:3: SettingWithCopyWarning: \n",
            "A value is trying to be set on a copy of a slice from a DataFrame.\n",
            "Try using .loc[row_indexer,col_indexer] = value instead\n",
            "\n",
            "See the caveats in the documentation: https://pandas.pydata.org/pandas-docs/stable/user_guide/indexing.html#returning-a-view-versus-a-copy\n",
            "  This is separate from the ipykernel package so we can avoid doing imports until\n",
            "/usr/local/lib/python3.7/dist-packages/ipykernel_launcher.py:4: SettingWithCopyWarning: \n",
            "A value is trying to be set on a copy of a slice from a DataFrame.\n",
            "Try using .loc[row_indexer,col_indexer] = value instead\n",
            "\n",
            "See the caveats in the documentation: https://pandas.pydata.org/pandas-docs/stable/user_guide/indexing.html#returning-a-view-versus-a-copy\n",
            "  after removing the cwd from sys.path.\n"
          ],
          "name": "stderr"
        }
      ]
    },
    {
      "cell_type": "code",
      "metadata": {
        "id": "8henDa_Q4mTW",
        "colab": {
          "base_uri": "https://localhost:8080/",
          "height": 558
        },
        "outputId": "0694ff58-4f83-47b3-c8f6-20cee41dfffb"
      },
      "source": [
        "plt.figure(figsize=(16,8))\n",
        "plt.title(\"Model\")\n",
        "plt.xlabel('Date', fontsize=18)\n",
        "plt.ylabel('Close Price USD($)', fontsize=18)\n",
        "plt.plot(train['Close'])\n",
        "plt.plot(valid[['Close','Prediction']])\n",
        "plt.legend(['Train','Val','Prediction'], loc='lower right')\n",
        "plt.show()"
      ],
      "execution_count": 150,
      "outputs": [
        {
          "output_type": "display_data",
          "data": {
            "image/png": "[encoded data removed]",
            "text/plain": [
              "<Figure size 1152x576 with 1 Axes>"
            ]
          },
          "metadata": {
            "tags": []
          }
        }
      ]
    },
    {
      "cell_type": "code",
      "metadata": {
        "id": "rsBJdDom5UsW",
        "colab": {
          "base_uri": "https://localhost:8080/",
          "height": 1000
        },
        "outputId": "59a7da48-d8ae-4195-837b-82e965319867"
      },
      "source": [
        "valid"
      ],
      "execution_count": 151,
      "outputs": [
        {
          "output_type": "execute_result",
          "data": {
            "text/html": [
              "<div>\n",
              "<style scoped>\n",
              "    .dataframe tbody tr th:only-of-type {\n",
              "        vertical-align: middle;\n",
              "    }\n",
              "\n",
              "    .dataframe tbody tr th {\n",
              "        vertical-align: top;\n",
              "    }\n",
              "\n",
              "    .dataframe thead th {\n",
              "        text-align: right;\n",
              "    }\n",
              "</style>\n",
              "<table border=\"1\" class=\"dataframe\">\n",
              "  <thead>\n",
              "    <tr style=\"text-align: right;\">\n",
              "      <th></th>\n",
              "      <th>Close</th>\n",
              "      <th>Prediction</th>\n",
              "      <th>Error Precentage</th>\n",
              "    </tr>\n",
              "    <tr>\n",
              "      <th>Date</th>\n",
              "      <th></th>\n",
              "      <th></th>\n",
              "      <th></th>\n",
              "    </tr>\n",
              "  </thead>\n",
              "  <tbody>\n",
              "    <tr>\n",
              "      <th>2021-01-01</th>\n",
              "      <td>353.399994</td>\n",
              "      <td>346.086731</td>\n",
              "      <td>2.069401</td>\n",
              "    </tr>\n",
              "    <tr>\n",
              "      <th>2021-01-04</th>\n",
              "      <td>359.299988</td>\n",
              "      <td>347.541199</td>\n",
              "      <td>3.272694</td>\n",
              "    </tr>\n",
              "    <tr>\n",
              "      <th>2021-01-05</th>\n",
              "      <td>359.549988</td>\n",
              "      <td>349.320160</td>\n",
              "      <td>2.845175</td>\n",
              "    </tr>\n",
              "    <tr>\n",
              "      <th>2021-01-06</th>\n",
              "      <td>355.700012</td>\n",
              "      <td>351.141357</td>\n",
              "      <td>1.281601</td>\n",
              "    </tr>\n",
              "    <tr>\n",
              "      <th>2021-01-07</th>\n",
              "      <td>353.200012</td>\n",
              "      <td>352.544250</td>\n",
              "      <td>0.185663</td>\n",
              "    </tr>\n",
              "    <tr>\n",
              "      <th>2021-01-08</th>\n",
              "      <td>353.600006</td>\n",
              "      <td>353.412964</td>\n",
              "      <td>0.052897</td>\n",
              "    </tr>\n",
              "    <tr>\n",
              "      <th>2021-01-11</th>\n",
              "      <td>350.100006</td>\n",
              "      <td>353.940765</td>\n",
              "      <td>-1.097046</td>\n",
              "    </tr>\n",
              "    <tr>\n",
              "      <th>2021-01-12</th>\n",
              "      <td>352.750000</td>\n",
              "      <td>353.959991</td>\n",
              "      <td>-0.343017</td>\n",
              "    </tr>\n",
              "    <tr>\n",
              "      <th>2021-01-13</th>\n",
              "      <td>348.100006</td>\n",
              "      <td>353.900848</td>\n",
              "      <td>-1.666430</td>\n",
              "    </tr>\n",
              "    <tr>\n",
              "      <th>2021-01-14</th>\n",
              "      <td>366.799988</td>\n",
              "      <td>353.438507</td>\n",
              "      <td>3.642716</td>\n",
              "    </tr>\n",
              "    <tr>\n",
              "      <th>2021-01-15</th>\n",
              "      <td>370.049988</td>\n",
              "      <td>354.228821</td>\n",
              "      <td>4.275413</td>\n",
              "    </tr>\n",
              "    <tr>\n",
              "      <th>2021-01-18</th>\n",
              "      <td>355.799988</td>\n",
              "      <td>355.863190</td>\n",
              "      <td>-0.017763</td>\n",
              "    </tr>\n",
              "    <tr>\n",
              "      <th>2021-01-19</th>\n",
              "      <td>363.200012</td>\n",
              "      <td>356.760468</td>\n",
              "      <td>1.773002</td>\n",
              "    </tr>\n",
              "    <tr>\n",
              "      <th>2021-01-20</th>\n",
              "      <td>371.899994</td>\n",
              "      <td>357.772491</td>\n",
              "      <td>3.798737</td>\n",
              "    </tr>\n",
              "    <tr>\n",
              "      <th>2021-01-21</th>\n",
              "      <td>370.149994</td>\n",
              "      <td>359.399048</td>\n",
              "      <td>2.904484</td>\n",
              "    </tr>\n",
              "    <tr>\n",
              "      <th>2021-01-22</th>\n",
              "      <td>370.549988</td>\n",
              "      <td>361.083344</td>\n",
              "      <td>2.554755</td>\n",
              "    </tr>\n",
              "    <tr>\n",
              "      <th>2021-01-25</th>\n",
              "      <td>379.549988</td>\n",
              "      <td>362.699768</td>\n",
              "      <td>4.439526</td>\n",
              "    </tr>\n",
              "    <tr>\n",
              "      <th>2021-01-27</th>\n",
              "      <td>366.299988</td>\n",
              "      <td>364.821655</td>\n",
              "      <td>0.403585</td>\n",
              "    </tr>\n",
              "    <tr>\n",
              "      <th>2021-01-28</th>\n",
              "      <td>358.299988</td>\n",
              "      <td>366.025604</td>\n",
              "      <td>-2.156187</td>\n",
              "    </tr>\n",
              "    <tr>\n",
              "      <th>2021-01-29</th>\n",
              "      <td>345.350006</td>\n",
              "      <td>366.041534</td>\n",
              "      <td>-5.991466</td>\n",
              "    </tr>\n",
              "    <tr>\n",
              "      <th>2021-02-01</th>\n",
              "      <td>350.100006</td>\n",
              "      <td>364.410278</td>\n",
              "      <td>-4.087481</td>\n",
              "    </tr>\n",
              "    <tr>\n",
              "      <th>2021-02-02</th>\n",
              "      <td>346.549988</td>\n",
              "      <td>362.369690</td>\n",
              "      <td>-4.564912</td>\n",
              "    </tr>\n",
              "    <tr>\n",
              "      <th>2021-02-03</th>\n",
              "      <td>341.700012</td>\n",
              "      <td>359.970856</td>\n",
              "      <td>-5.347042</td>\n",
              "    </tr>\n",
              "    <tr>\n",
              "      <th>2021-02-04</th>\n",
              "      <td>346.600006</td>\n",
              "      <td>357.207245</td>\n",
              "      <td>-3.060369</td>\n",
              "    </tr>\n",
              "    <tr>\n",
              "      <th>2021-02-05</th>\n",
              "      <td>341.750000</td>\n",
              "      <td>354.855835</td>\n",
              "      <td>-3.834919</td>\n",
              "    </tr>\n",
              "    <tr>\n",
              "      <th>2021-02-08</th>\n",
              "      <td>357.250000</td>\n",
              "      <td>352.548920</td>\n",
              "      <td>1.315908</td>\n",
              "    </tr>\n",
              "    <tr>\n",
              "      <th>2021-02-09</th>\n",
              "      <td>360.700012</td>\n",
              "      <td>351.665314</td>\n",
              "      <td>2.504768</td>\n",
              "    </tr>\n",
              "    <tr>\n",
              "      <th>2021-02-10</th>\n",
              "      <td>359.299988</td>\n",
              "      <td>351.889435</td>\n",
              "      <td>2.062497</td>\n",
              "    </tr>\n",
              "    <tr>\n",
              "      <th>2021-02-11</th>\n",
              "      <td>367.350006</td>\n",
              "      <td>352.621429</td>\n",
              "      <td>4.009412</td>\n",
              "    </tr>\n",
              "    <tr>\n",
              "      <th>2021-02-12</th>\n",
              "      <td>375.649994</td>\n",
              "      <td>354.204437</td>\n",
              "      <td>5.708920</td>\n",
              "    </tr>\n",
              "    <tr>\n",
              "      <th>2021-02-15</th>\n",
              "      <td>368.700012</td>\n",
              "      <td>356.747162</td>\n",
              "      <td>3.241890</td>\n",
              "    </tr>\n",
              "    <tr>\n",
              "      <th>2021-02-16</th>\n",
              "      <td>372.700012</td>\n",
              "      <td>359.075348</td>\n",
              "      <td>3.655665</td>\n",
              "    </tr>\n",
              "    <tr>\n",
              "      <th>2021-02-17</th>\n",
              "      <td>366.799988</td>\n",
              "      <td>361.410248</td>\n",
              "      <td>1.469395</td>\n",
              "    </tr>\n",
              "    <tr>\n",
              "      <th>2021-02-18</th>\n",
              "      <td>369.250000</td>\n",
              "      <td>363.089111</td>\n",
              "      <td>1.668487</td>\n",
              "    </tr>\n",
              "    <tr>\n",
              "      <th>2021-02-19</th>\n",
              "      <td>365.350006</td>\n",
              "      <td>364.453247</td>\n",
              "      <td>0.245452</td>\n",
              "    </tr>\n",
              "    <tr>\n",
              "      <th>2021-02-22</th>\n",
              "      <td>358.100006</td>\n",
              "      <td>365.215790</td>\n",
              "      <td>-1.987094</td>\n",
              "    </tr>\n",
              "    <tr>\n",
              "      <th>2021-02-23</th>\n",
              "      <td>361.750000</td>\n",
              "      <td>365.031464</td>\n",
              "      <td>-0.907108</td>\n",
              "    </tr>\n",
              "    <tr>\n",
              "      <th>2021-02-24</th>\n",
              "      <td>360.250000</td>\n",
              "      <td>364.619232</td>\n",
              "      <td>-1.212833</td>\n",
              "    </tr>\n",
              "    <tr>\n",
              "      <th>2021-02-26</th>\n",
              "      <td>347.799988</td>\n",
              "      <td>363.982788</td>\n",
              "      <td>-4.652904</td>\n",
              "    </tr>\n",
              "  </tbody>\n",
              "</table>\n",
              "</div>"
            ],
            "text/plain": [
              "                 Close  Prediction  Error Precentage\n",
              "Date                                                \n",
              "2021-01-01  353.399994  346.086731          2.069401\n",
              "2021-01-04  359.299988  347.541199          3.272694\n",
              "2021-01-05  359.549988  349.320160          2.845175\n",
              "2021-01-06  355.700012  351.141357          1.281601\n",
              "2021-01-07  353.200012  352.544250          0.185663\n",
              "2021-01-08  353.600006  353.412964          0.052897\n",
              "2021-01-11  350.100006  353.940765         -1.097046\n",
              "2021-01-12  352.750000  353.959991         -0.343017\n",
              "2021-01-13  348.100006  353.900848         -1.666430\n",
              "2021-01-14  366.799988  353.438507          3.642716\n",
              "2021-01-15  370.049988  354.228821          4.275413\n",
              "2021-01-18  355.799988  355.863190         -0.017763\n",
              "2021-01-19  363.200012  356.760468          1.773002\n",
              "2021-01-20  371.899994  357.772491          3.798737\n",
              "2021-01-21  370.149994  359.399048          2.904484\n",
              "2021-01-22  370.549988  361.083344          2.554755\n",
              "2021-01-25  379.549988  362.699768          4.439526\n",
              "2021-01-27  366.299988  364.821655          0.403585\n",
              "2021-01-28  358.299988  366.025604         -2.156187\n",
              "2021-01-29  345.350006  366.041534         -5.991466\n",
              "2021-02-01  350.100006  364.410278         -4.087481\n",
              "2021-02-02  346.549988  362.369690         -4.564912\n",
              "2021-02-03  341.700012  359.970856         -5.347042\n",
              "2021-02-04  346.600006  357.207245         -3.060369\n",
              "2021-02-05  341.750000  354.855835         -3.834919\n",
              "2021-02-08  357.250000  352.548920          1.315908\n",
              "2021-02-09  360.700012  351.665314          2.504768\n",
              "2021-02-10  359.299988  351.889435          2.062497\n",
              "2021-02-11  367.350006  352.621429          4.009412\n",
              "2021-02-12  375.649994  354.204437          5.708920\n",
              "2021-02-15  368.700012  356.747162          3.241890\n",
              "2021-02-16  372.700012  359.075348          3.655665\n",
              "2021-02-17  366.799988  361.410248          1.469395\n",
              "2021-02-18  369.250000  363.089111          1.668487\n",
              "2021-02-19  365.350006  364.453247          0.245452\n",
              "2021-02-22  358.100006  365.215790         -1.987094\n",
              "2021-02-23  361.750000  365.031464         -0.907108\n",
              "2021-02-24  360.250000  364.619232         -1.212833\n",
              "2021-02-26  347.799988  363.982788         -4.652904"
            ]
          },
          "metadata": {
            "tags": []
          },
          "execution_count": 151
        }
      ]
    },
    {
      "cell_type": "code",
      "metadata": {
        "id": "64IQgm8wMsqS"
      },
      "source": [
        ""
      ],
      "execution_count": null,
      "outputs": []
    }
  ]
}